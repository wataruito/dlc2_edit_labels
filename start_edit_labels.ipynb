{
 "cells": [
  {
   "cell_type": "code",
   "execution_count": 12,
   "id": "42eb557a-43f1-4585-b0f3-2abe4dcefc02",
   "metadata": {},
   "outputs": [
    {
     "name": "stdout",
     "output_type": "stream",
     "text": [
      "video resolution: (480, 640, 3)\n",
      "total frame number: 720\n",
      "Reading _m154_track_freeze.csv\n",
      "Writing _m154_track_freeze.csv\n",
      "Writing _m154_freeze.csv\n",
      "frame =  0  is modified: Snap of Frame 0 Taken!\n"
     ]
    }
   ],
   "source": [
    "import sys\n",
    "sys.path.insert(1, r'W:\\wataru\\jupyter\\dlc2_edit_labels')\n",
    "import edit_labels as el\n",
    "\n",
    "input_h5_path = r'W:\\wataru\\jupyter\\dlc2_edit_labels\\iteration1\\m154DLC_resnet50_test01Dec21shuffle1_100000.h5'\n",
    "input_video = r'W:\\wataru\\jupyter\\dlc2_edit_labels\\m154.mp4'\n",
    "input_mag_factor = 2\n",
    "\n",
    "obj = el.EditLabels(input_h5_path, input_video, input_mag_factor)\n",
    "obj.edit_labels()"
   ]
  }
 ],
 "metadata": {
  "kernelspec": {
   "display_name": "Python 3 (ipykernel)",
   "language": "python",
   "name": "python3"
  },
  "language_info": {
   "codemirror_mode": {
    "name": "ipython",
    "version": 3
   },
   "file_extension": ".py",
   "mimetype": "text/x-python",
   "name": "python",
   "nbconvert_exporter": "python",
   "pygments_lexer": "ipython3",
   "version": "3.9.12"
  }
 },
 "nbformat": 4,
 "nbformat_minor": 5
}
