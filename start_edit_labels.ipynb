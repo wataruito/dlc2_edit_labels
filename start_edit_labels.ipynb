{
 "cells": [
  {
   "cell_type": "markdown",
   "id": "021492cd-4ffc-4905-a5de-299cab793b2c",
   "metadata": {},
   "source": [
    "# Start edit_labels\n",
    "(2022/06/02) Currently, Jupyter cannot run edit_labels with a graph as sub-process. Please run from VS code or command prompt. "
   ]
  },
  {
   "cell_type": "code",
   "execution_count": null,
   "id": "5a436060-d4e5-4de1-8aba-f7e328662ade",
   "metadata": {},
   "outputs": [
    {
     "name": "stdout",
     "output_type": "stream",
     "text": [
      "Started:  <WaveViewer name='WaveViewer-1' pid=21012 parent=20792 started>\n",
      "video resolution: (960, 1280, 3)\n",
      "total frame number: 18000\n",
      "Reconstructed total rows are : 200\n",
      "Reading _rpicam-01_1806_20210722_212134_track_freeze.csv\n"
     ]
    }
   ],
   "source": [
    "import edit_labels as el\n",
    "import os\n",
    "\n",
    "\n",
    "if __name__ == '__main__':\n",
    "\n",
    "    # input data\n",
    "    if os.path.exists('input.csv'):\n",
    "        inferred_video, inferred_h5, labeled_h5, labeled_for_train_pickle = el.read_input(\n",
    "            'input.csv', 1)\n",
    "    else:\n",
    "        ############################\n",
    "        # example data\n",
    "        # inferred video\n",
    "        inferred_video = r'input_data\\rpicam-01_1806_20210722_212134.mp4'\n",
    "        # inferred result h5\n",
    "        inferred_h5 = r'input_data\\rpicam-01_1806_20210722_212134DLC_dlcrnetms5_homecage_test01May17shuffle1_200000_el.h5'\n",
    "        # labeled data for training\n",
    "        labeled_h5 = r'input_data\\CollectedData_DJ.h5'\n",
    "        # information which frame is used for training or testing\n",
    "        labeled_for_train_pickle = r'input_data\\Documentation_data-homecage_test01_95shuffle1.pickle'\n",
    "\n",
    "    # video display magnification factor\n",
    "    mag_factor = 1\n",
    "    # set window size and position. win_y_len_axis is only for x-axis window.\n",
    "    window_geo = {'win_x_len': 1000, 'win_y_len': 100, 'win_y_len_axis': 30,\n",
    "                  'win_x_origin': 0, 'win_y_origin': 0}\n",
    "\n",
    "    el.start(inferred_video=inferred_video, inferred_h5=inferred_h5,\n",
    "             labeled_h5=labeled_h5, labeled_for_train_pickle=labeled_for_train_pickle,\n",
    "             mag_factor=mag_factor, window_geo=window_geo, plot_type='')"
   ]
  }
 ],
 "metadata": {
  "interpreter": {
   "hash": "8462bcf3bc83da554335dc6df0f39086690bcc2eff9a2427a0ae57310b4b624c"
  },
  "kernelspec": {
   "display_name": "Python 3 (ipykernel)",
   "language": "python",
   "name": "python3"
  },
  "language_info": {
   "codemirror_mode": {
    "name": "ipython",
    "version": 3
   },
   "file_extension": ".py",
   "mimetype": "text/x-python",
   "name": "python",
   "nbconvert_exporter": "python",
   "pygments_lexer": "ipython3",
   "version": "3.9.12"
  }
 },
 "nbformat": 4,
 "nbformat_minor": 5
}
