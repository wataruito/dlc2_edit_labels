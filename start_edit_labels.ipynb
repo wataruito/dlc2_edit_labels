{
 "cells": [
  {
   "cell_type": "code",
   "execution_count": 12,
   "id": "42eb557a-43f1-4585-b0f3-2abe4dcefc02",
   "metadata": {},
   "outputs": [
    {
     "name": "stdout",
     "output_type": "stream",
     "text": [
      "video resolution: (480, 640, 3)\n",
      "total frame number: 720\n",
      "Reading _m154_track_freeze.csv\n",
      "Writing _m154_track_freeze.csv\n",
      "Writing _m154_freeze.csv\n",
      "frame =  0  is modified: Snap of Frame 0 Taken!\n"
     ]
    }
   ],
   "source": [
    "import edit_labels as el\n",
    "\n",
    "input_h5_path = r'rpicam-01_1806_20210722_212134DLC_dlcrnetms5_homecage_test01May17shuffle1_200000_el.h5'\n",
    "input_video = r'rpicam-01_1806_20210722_212134.mp4'\n",
    "input_mag_factor = 2\n",
    "\n",
    "obj = el.EditLabels(input_h5_path, input_video, input_mag_factor)\n",
    "obj.edit_labels()"
   ]
  }
 ],
 "metadata": {
  "interpreter": {
   "hash": "8462bcf3bc83da554335dc6df0f39086690bcc2eff9a2427a0ae57310b4b624c"
  },
  "kernelspec": {
   "display_name": "Python 3.9.12 ('jl3_1')",
   "language": "python",
   "name": "python3"
  },
  "language_info": {
   "codemirror_mode": {
    "name": "ipython",
    "version": 3
   },
   "file_extension": ".py",
   "mimetype": "text/x-python",
   "name": "python",
   "nbconvert_exporter": "python",
   "pygments_lexer": "ipython3",
   "version": "3.9.12"
  }
 },
 "nbformat": 4,
 "nbformat_minor": 5
}
