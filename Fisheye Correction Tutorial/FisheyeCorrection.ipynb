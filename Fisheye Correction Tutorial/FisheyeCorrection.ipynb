{
 "cells": [
  {
   "cell_type": "markdown",
   "metadata": {},
   "source": [
    "# Correcting an entire video for the fisheye distortion"
   ]
  },
  {
   "cell_type": "markdown",
   "metadata": {},
   "source": [
    "Fisheye distortion is something we need to fix if we want DeepLabCut to be able to properly learn from our videos. Correcting for this distortion should keep the mice at consistent sizes regardless of their location in the cage."
   ]
  },
  {
   "cell_type": "markdown",
   "metadata": {},
   "source": [
    "# 1. Take some pictures"
   ]
  },
  {
   "cell_type": "markdown",
   "metadata": {},
   "source": [
    "We need to have a set of calibration images so that our program can figure out exactly how the fisheye lens is distorting the picture. Print out the attached calibration image and attach it to a hard flat thing (like a book or something). Move it around and take 20-40 pictures of it with the same camera that the video was recorded with. Drop those files in this folder."
   ]
  },
  {
   "cell_type": "markdown",
   "metadata": {},
   "source": [
    "# 2. Calibrate the camera"
   ]
  },
  {
   "cell_type": "markdown",
   "metadata": {},
   "source": [
    "In this step, we will generate a map of how much each pixel needs to be moved based on the calibration data."
   ]
  },
  {
   "cell_type": "code",
   "execution_count": 1,
   "metadata": {},
   "outputs": [
    {
     "name": "stdout",
     "output_type": "stream",
     "text": [
      "Found 18 valid images for calibration\n"
     ]
    }
   ],
   "source": [
    "import cv2\n",
    "import numpy as np\n",
    "import os\n",
    "import glob\n",
    "\n",
    "CHECKERBOARD = (6,9)\n",
    "subpix_criteria = (cv2.TERM_CRITERIA_EPS+cv2.TERM_CRITERIA_MAX_ITER, 30, 0.1)\n",
    "calibration_flags = cv2.fisheye.CALIB_RECOMPUTE_EXTRINSIC+cv2.fisheye.CALIB_CHECK_COND+cv2.fisheye.CALIB_FIX_SKEW\n",
    "objp = np.zeros((1, CHECKERBOARD[0]*CHECKERBOARD[1], 3), np.float32)\n",
    "objp[0,:,:2] = np.mgrid[0:CHECKERBOARD[0], 0:CHECKERBOARD[1]].T.reshape(-1, 2)\n",
    "_img_shape = None\n",
    "objpoints = [] # 3d point in real world space\n",
    "imgpoints = [] # 2d points in image plane.\n",
    "images = glob.glob('*.jpg')\n",
    "for fname in images:\n",
    "    img = cv2.imread(fname)\n",
    "    if _img_shape == None:\n",
    "        _img_shape = img.shape[:2]\n",
    "    else:\n",
    "        assert _img_shape == img.shape[:2], \"All images must share the same size.\"\n",
    "    gray = cv2.cvtColor(img,cv2.COLOR_BGR2GRAY)\n",
    "    # Find the chess board corners\n",
    "    ret, corners = cv2.findChessboardCorners(gray, CHECKERBOARD, cv2.CALIB_CB_ADAPTIVE_THRESH+cv2.CALIB_CB_FAST_CHECK+cv2.CALIB_CB_NORMALIZE_IMAGE)\n",
    "    # If found, add object points, image points (after refining them)\n",
    "    if ret == True:\n",
    "        objpoints.append(objp)\n",
    "        cv2.cornerSubPix(gray,corners,(3,3),(-1,-1),subpix_criteria)\n",
    "        imgpoints.append(corners)\n",
    "N_OK = len(objpoints)\n",
    "K = np.zeros((3, 3))\n",
    "D = np.zeros((4, 1))\n",
    "rvecs = [np.zeros((1, 1, 3), dtype=np.float64) for i in range(N_OK)]\n",
    "tvecs = [np.zeros((1, 1, 3), dtype=np.float64) for i in range(N_OK)]\n",
    "rms, _, _, _, _ = \\\n",
    "    cv2.fisheye.calibrate(\n",
    "        objpoints,\n",
    "        imgpoints,\n",
    "        gray.shape[::-1],\n",
    "        K,\n",
    "        D,\n",
    "        rvecs,\n",
    "        tvecs,\n",
    "        calibration_flags,\n",
    "        (cv2.TERM_CRITERIA_EPS+cv2.TERM_CRITERIA_MAX_ITER, 30, 1e-6)\n",
    "    )\n",
    "print(\"Found \" + str(N_OK) + \" valid images for calibration\")\n",
    "DIM = _img_shape[::-1]\n",
    "\n",
    "map1, map2 = cv2.fisheye.initUndistortRectifyMap(K, D, np.eye(3), cv2.fisheye.estimateNewCameraMatrixForUndistortRectify(K, D, DIM, np.eye(3), balance=0.0), DIM, cv2.CV_16SC2)"
   ]
  },
  {
   "cell_type": "markdown",
   "metadata": {},
   "source": [
    "# 3. Undistort your video"
   ]
  },
  {
   "cell_type": "markdown",
   "metadata": {},
   "source": [
    "Take any videos that you would like to undistort and place them in this folder. Then run the following code. This takes a couple of minutes for an hour of 5fps 1280x960 video, so keep in mind it might take a while. Your video file should show up in this folder as [original name]_undistorted.mp4"
   ]
  },
  {
   "cell_type": "code",
   "execution_count": 2,
   "metadata": {},
   "outputs": [],
   "source": [
    "def undistort(img):\n",
    "    return(cv2.remap(img, map1, map2, interpolation=cv2.INTER_LINEAR, borderMode=cv2.BORDER_CONSTANT))\n",
    "def video(vid_path):\n",
    "    cap = cv2.VideoCapture(vid_path)\n",
    "    # fourcc = cv2.VideoWriter_fourcc(*'MP4V')\n",
    "    out = cv2.VideoWriter(vid_path+'_undistorted.mp4', 0x7634706d, 5, DIM)\n",
    "    length = int(cap.get(cv2.CAP_PROP_FRAME_COUNT))\n",
    "    for i in range(0, length):\n",
    "        ret, frame = cap.read()\n",
    "        out.write(undistort(frame))\n",
    "    cap.release()\n",
    "    out.release()\n",
    "    cv2.destroyAllWindows()\n",
    "    return\n",
    "for p in glob.glob('*.mp4'):\n",
    "    video(p)"
   ]
  }
 ],
 "metadata": {
  "interpreter": {
   "hash": "497a28f436f75e2b42547c8673ed4c48ca4e4a58c1730aa8244bdbeeab46a860"
  },
  "kernelspec": {
   "display_name": "Python 3.9.12 ('jl3')",
   "language": "python",
   "name": "python3"
  },
  "language_info": {
   "codemirror_mode": {
    "name": "ipython",
    "version": 3
   },
   "file_extension": ".py",
   "mimetype": "text/x-python",
   "name": "python",
   "nbconvert_exporter": "python",
   "pygments_lexer": "ipython3",
   "version": "3.9.12"
  },
  "orig_nbformat": 4
 },
 "nbformat": 4,
 "nbformat_minor": 2
}
